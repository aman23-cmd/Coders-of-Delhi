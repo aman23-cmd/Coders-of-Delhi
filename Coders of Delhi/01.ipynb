{
 "cells": [
  {
   "cell_type": "code",
   "execution_count": 18,
   "id": "bc0cf46d-5bdd-44ab-ba26-d4baa54c14dd",
   "metadata": {},
   "outputs": [],
   "source": [
    "import json"
   ]
  },
  {
   "cell_type": "code",
   "execution_count": 19,
   "id": "fedb3e54-9e8e-4297-b854-b5291c7b538e",
   "metadata": {},
   "outputs": [],
   "source": [
    "# Load the JSON file\n",
    "def load_data(filename):\n",
    "    with open(filename, \"r\") as file:\n",
    "        data = json.load(file)\n",
    "    return data"
   ]
  },
  {
   "cell_type": "code",
   "execution_count": 20,
   "id": "68c40ca9-58d7-4828-9e28-82e2fde2dd87",
   "metadata": {},
   "outputs": [],
   "source": [
    "# Display users and their connections\n",
    "def display_users(data):\n",
    "    print(\"Users and Their Connections:\\n\")\n",
    "    for user in data[\"users\"]:\n",
    "        print(f\"{user['name']} (ID: {user['id']}) - Friends: {user['friends']} - Liked Pages: {user['liked_pages']}\")\n",
    "    print(\"\\nPages:\\n\")\n",
    "    for page in data[\"pages\"]:\n",
    "        print(f\"{page['id']}: {page['name']}\")"
   ]
  },
  {
   "cell_type": "code",
   "execution_count": 21,
   "id": "fbdda70a-904e-4dde-9ade-a8055d125fa2",
   "metadata": {},
   "outputs": [
    {
     "name": "stdout",
     "output_type": "stream",
     "text": [
      "Users and Their Connections:\n",
      "\n",
      "Amit (ID: 1) - Friends: [2, 3] - Liked Pages: [101]\n",
      "Priya (ID: 2) - Friends: [1, 4] - Liked Pages: [102]\n",
      "Rahul (ID: 3) - Friends: [1] - Liked Pages: [101, 103]\n",
      "Sara (ID: 4) - Friends: [2] - Liked Pages: [104]\n",
      "\n",
      "Pages:\n",
      "\n",
      "101: Python Developers\n",
      "102: Data Science Enthusiasts\n",
      "103: AI & ML Community\n",
      "104: Web Dev Hub\n"
     ]
    }
   ],
   "source": [
    "# Load and display the data\n",
    "data = load_data(\"data.json\")\n",
    "display_users(data)"
   ]
  },
  {
   "cell_type": "code",
   "execution_count": null,
   "id": "c4b67a6d-d497-4c42-a399-c4fec23e6c51",
   "metadata": {},
   "outputs": [],
   "source": []
  }
 ],
 "metadata": {
  "kernelspec": {
   "display_name": "Python 3 (ipykernel)",
   "language": "python",
   "name": "python3"
  },
  "language_info": {
   "codemirror_mode": {
    "name": "ipython",
    "version": 3
   },
   "file_extension": ".py",
   "mimetype": "text/x-python",
   "name": "python",
   "nbconvert_exporter": "python",
   "pygments_lexer": "ipython3",
   "version": "3.13.5"
  }
 },
 "nbformat": 4,
 "nbformat_minor": 5
}

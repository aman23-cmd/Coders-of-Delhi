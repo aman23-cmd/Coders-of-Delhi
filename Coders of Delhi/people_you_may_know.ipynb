{
 "cells": [
  {
   "cell_type": "code",
   "execution_count": 18,
   "id": "41fd8f27-dba6-4565-ae7d-98bc63f0a686",
   "metadata": {},
   "outputs": [
    {
     "name": "stdout",
     "output_type": "stream",
     "text": [
      "[2, 7, 5, 10, 12, 14, 11, 15]\n"
     ]
    }
   ],
   "source": [
    "import json \n",
    "def load_data(filename):\n",
    "    with open(filename,\"r\")as f:\n",
    "        return json.load(f)\n",
    "\n",
    "def find_people_you_may_know(user_id,data):\n",
    "    user_friends = {}\n",
    "    for user in data['users']:\n",
    "        user_friends[user['id']] = set(user['friends'])\n",
    "    if user_id not in user_friends:\n",
    "        return[]\n",
    "    direct_friends = user_friends[user_id]\n",
    "    suggestions = {}\n",
    "    for friends in direct_friends:\n",
    "        for mutual in user_friends[friends]:\n",
    "            if mutual!=user_id and mutual not in direct_friends:\n",
    "                suggestions[mutual] = suggestions.get(mutual,0)+1\n",
    "    sorted_suggestions = sorted(suggestions.items(),key=lambda x: x[1], reverse =  True)\n",
    "    return [user_id for user_id,mutual_count in sorted_suggestions]\n",
    "\n",
    "#load the data\n",
    "data = load_data(\"massive_data.json\")\n",
    "user_id = 4\n",
    "recc = find_people_you_may_know(user_id,data)\n",
    "print(recc)\n",
    "             \n",
    "    "
   ]
  },
  {
   "cell_type": "code",
   "execution_count": null,
   "id": "3f3bbb2f-a68c-42dd-99ae-a7731187dcc5",
   "metadata": {},
   "outputs": [],
   "source": []
  }
 ],
 "metadata": {
  "kernelspec": {
   "display_name": "Python 3 (ipykernel)",
   "language": "python",
   "name": "python3"
  },
  "language_info": {
   "codemirror_mode": {
    "name": "ipython",
    "version": 3
   },
   "file_extension": ".py",
   "mimetype": "text/x-python",
   "name": "python",
   "nbconvert_exporter": "python",
   "pygments_lexer": "ipython3",
   "version": "3.13.5"
  }
 },
 "nbformat": 4,
 "nbformat_minor": 5
}
